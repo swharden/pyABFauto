{
 "cells": [
  {
   "cell_type": "code",
   "execution_count": null,
   "metadata": {
    "dotnet_interactive": {
     "language": "csharp"
    },
    "polyglot_notebook": {
     "kernelName": "csharp"
    }
   },
   "outputs": [],
   "source": [
    "import pyabf\n",
    "import pathlib\n",
    "import analysis"
   ]
  },
  {
   "attachments": {},
   "cell_type": "markdown",
   "metadata": {},
   "source": [
    "### Analyze ABFs (create JSON) "
   ]
  },
  {
   "cell_type": "code",
   "execution_count": null,
   "metadata": {
    "dotnet_interactive": {
     "language": "csharp"
    },
    "polyglot_notebook": {
     "kernelName": "csharp"
    }
   },
   "outputs": [],
   "source": [
    "def analyze_abf(abf_path: pathlib.Path):\n",
    "    abf = pyabf.ABF(abf_path, loadData=False)\n",
    "    protocol_id = abf.protocol.split(\" \")[0]\n",
    "    if protocol_id == \"0110\":\n",
    "        print(f\"[{abf.protocol}] {abf_path}\")\n",
    "        analysis.analyze_rmp(abf_path)"
   ]
  },
  {
   "cell_type": "code",
   "execution_count": null,
   "metadata": {},
   "outputs": [],
   "source": [
    "abf_folders = pathlib.Path(\"X:/Data/zProjects/NTS CSDS/abfs/\").glob(\"*\")\n",
    "for abf_folder in abf_folders:\n",
    "    for abf_path in abf_folder.glob(\"*.abf\"):\n",
    "        analyze_abf(abf_path)\n"
   ]
  },
  {
   "attachments": {},
   "cell_type": "markdown",
   "metadata": {},
   "source": [
    "### Analyze RMP (from JSON)"
   ]
  },
  {
   "cell_type": "code",
   "execution_count": 12,
   "metadata": {},
   "outputs": [],
   "source": [
    "json_paths = []\n",
    "abf_folders = pathlib.Path(\"X:/Data/zProjects/NTS CSDS/abfs/\").glob(\"*\")\n",
    "for abf_folder in abf_folders:\n",
    "    for json_path in abf_folder.joinpath(\"_autoanalysis\").glob(\"*.rmp.json\"):\n",
    "        json_paths.append(json_path)"
   ]
  },
  {
   "cell_type": "code",
   "execution_count": null,
   "metadata": {},
   "outputs": [],
   "source": []
  }
 ],
 "metadata": {
  "kernelspec": {
   "display_name": "Python 3",
   "language": "python",
   "name": "python3"
  },
  "language_info": {
   "codemirror_mode": {
    "name": "ipython",
    "version": 3
   },
   "file_extension": ".py",
   "mimetype": "text/x-python",
   "name": "python",
   "nbconvert_exporter": "python",
   "pygments_lexer": "ipython3",
   "version": "3.10.4"
  },
  "orig_nbformat": 4,
  "polyglot_notebook": {
   "kernelInfo": {
    "defaultKernelName": "csharp",
    "items": [
     {
      "aliases": [],
      "name": "csharp"
     }
    ]
   }
  }
 },
 "nbformat": 4,
 "nbformat_minor": 2
}
