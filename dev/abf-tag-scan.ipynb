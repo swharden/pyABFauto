{
 "cells": [
  {
   "cell_type": "code",
   "execution_count": 1,
   "metadata": {},
   "outputs": [
    {
     "name": "stdout",
     "output_type": "stream",
     "text": [
      "2023_03_02_0003.abf ['TSeries 2096', 'NMDA 10 uM + glycine 10 uM', 'ACSF']\n",
      "2023_03_02_0007.abf ['TSeries 2097', 'NMDA 10 uM + glycine 10 uM', 'ACSF']\n",
      "2023_03_02_0011.abf ['TSeries 2098', 'NMDA 10 uM + glycine 10 uM', 'ACSF']\n",
      "2023_03_08_0005.abf ['TSeries 2101', 'NMDA 10 uM + glycine 10 uM', 'ACSF']\n",
      "2023_03_08_0009.abf ['TSeries 2102', 'NMDA 10 uM + glycine 10 uM', 'ACSF']\n",
      "2023_03_09_0003.abf ['TSeries 2103', 'NMDA 10 uM + glycine 10 uM', 'ACSF']\n",
      "2023_03_09_0007.abf ['TSeries 2104', 'NMDA 10 uM + glycine 10 uM', 'ACSF']\n",
      "2023_03_09_0011.abf ['TSeries 2105', 'NMDA 10 uM + glycine 10 uM', 'ACSF']\n",
      "2023_03_17_0004.abf ['TSeries 2107', 'NMDA 10 uM + glycine 10 uM (APV is on)', 'ACSF']\n",
      "2023_03_17_0008.abf ['TSeries 2108', 'NMDA 10 uM + glycine 10 uM (APV is on)', 'ACSF']\n",
      "2023_03_29_0009.abf ['TSeries 2110', 'NMDA 10 uM + glycine', 'ACSF']\n",
      "2023_03_29_0013.abf ['TSeries 2111', 'NMDA 10 uM + glycine 10 uM (APV is on)', 'ACSF']\n",
      "2023_03_29_0017.abf ['NMDA 10 uM + glycine 10 uM (APV is on)', 'ACSF']\n",
      "2023_03_30_0003.abf ['TSeries 2113']\n",
      "2023_03_30_0008.abf ['TSeries 2116', 'NMDA 10 uM + glycine 10 uM (Mg is on)', 'ACSF']\n",
      "2023_03_30_0013.abf ['TSeries 2119', 'NMDA 10 uM + glycine 10 uM (Mg is on)', 'ACSF']\n",
      "2023_03_30_0017.abf ['TSeries 2120', 'NMDA 10 uM + glycine 10 uM', 'ACSF']\n",
      "2023_04_12_0003.abf ['TSeries 2163', 'NMDA 10 uM + glycine 10 uM (Mg is on)', 'ACSF']\n",
      "2023_04_12_0007.abf ['TSeries 2164', 'NMDA 10 uM + glycine 10 uM (Mg is on)', 'ACSF']\n",
      "2023_04_13_0003.abf ['TSeries 2165', 'NMDA 10 uM + glycine 10 uM (Mg is on)', 'ACSF']\n",
      "2023_04_13_0010.abf ['TSeries 2166', 'NMDA 10 uM + glycine 10 uM (Mg is on)', 'ACSF']\n"
     ]
    }
   ],
   "source": [
    "import pathlib\n",
    "import pyabf\n",
    "\n",
    "folder = R\"X:/Data/zProjects/OT-Tom NMDA signaling/Experiments/2p basal calcium IRT NMDA/abfs\"\n",
    "abf_files = pathlib.Path(folder).rglob(\"*.abf\")\n",
    "for abf_file in abf_files:\n",
    "    abf = pyabf.ABF(abf_file, loadData=False)\n",
    "    if not abf.tagComments:\n",
    "        continue\n",
    "    comments = \", \".join(abf.tagComments)\n",
    "    print(f\"{abf_file.name} {comments}\")"
   ]
  },
  {
   "cell_type": "code",
   "execution_count": null,
   "metadata": {},
   "outputs": [],
   "source": []
  }
 ],
 "metadata": {
  "kernelspec": {
   "display_name": "Python 3",
   "language": "python",
   "name": "python3"
  },
  "language_info": {
   "codemirror_mode": {
    "name": "ipython",
    "version": 3
   },
   "file_extension": ".py",
   "mimetype": "text/x-python",
   "name": "python",
   "nbconvert_exporter": "python",
   "pygments_lexer": "ipython3",
   "version": "3.10.4"
  },
  "orig_nbformat": 4
 },
 "nbformat": 4,
 "nbformat_minor": 2
}
